{
 "cells": [
  {
   "cell_type": "markdown",
   "id": "5f903ebf",
   "metadata": {},
   "source": [
    "Below is the __intit_.py from the article. "
   ]
  },
  {
   "cell_type": "code",
   "execution_count": null,
   "id": "07d3a1b2",
   "metadata": {},
   "outputs": [],
   "source": [
    "def sum(arg):\n",
    "    total = 0\n",
    "    for val in arg:\n",
    "        total += val\n",
    "    return total"
   ]
  },
  {
   "cell_type": "markdown",
   "id": "022d5e83",
   "metadata": {},
   "source": [
    "Below is the first code tested which doesn't return an error. "
   ]
  },
  {
   "cell_type": "code",
   "execution_count": null,
   "id": "d13102ef",
   "metadata": {},
   "outputs": [],
   "source": [
    "import unittest\n",
    "\n",
    "from my_sum import sum\n",
    "\n",
    "\n",
    "class TestSum(unittest.TestCase):\n",
    "    def test_list_int(self):\n",
    "        \"\"\"\n",
    "        Test that it can sum a list of integers\n",
    "        \"\"\"\n",
    "        data = [1, 2, 3]\n",
    "        result = sum(data)\n",
    "        self.assertEqual(result, 6)\n",
    "\n",
    "if __name__ == '__main__':\n",
    "    unittest.main()"
   ]
  },
  {
   "cell_type": "markdown",
   "id": "d7330cb4",
   "metadata": {},
   "source": [
    "Below is the final test which returns one error and one pass. "
   ]
  },
  {
   "cell_type": "code",
   "execution_count": null,
   "id": "8e35b676",
   "metadata": {},
   "outputs": [],
   "source": [
    "from fractions import Fraction\n",
    "import unittest\n",
    "\n",
    "from my_sum import sum\n",
    "\n",
    "\n",
    "class TestSum(unittest.TestCase):\n",
    "    def test_list_int(self):\n",
    "        \"\"\"\n",
    "        Test that it can sum a list of integers\n",
    "        \"\"\"\n",
    "        data = [1, 2, 3]\n",
    "        result = sum(data)\n",
    "        self.assertEqual(result, 6)\n",
    "\n",
    "    def test_list_fraction(self):\n",
    "        \"\"\"\n",
    "        Test that it can sum a list of fractions\n",
    "        \"\"\"\n",
    "        data = [Fraction(1, 4), Fraction(1, 4), Fraction(2, 5)]\n",
    "        result = sum(data)\n",
    "        self.assertEqual(result, 1)\n",
    "\n",
    "if __name__ == '__main__':\n",
    "    unittest.main()"
   ]
  },
  {
   "cell_type": "markdown",
   "id": "75bca978",
   "metadata": {},
   "source": [
    "At the end of the notebook, describe the test results in your own words.  What do the test results mean?\n",
    "\n",
    "I am confused with this assignment and this question. The last test produced results in one passing and one failing because it was expecting a \"1\" but didn't get it. The test before that all passed. I'm confused because I was not sure what to put in the Jupyter Notebook because the instructions note said to use Jupyter then VScode and then submit in Jupyter Notebook. "
   ]
  }
 ],
 "metadata": {
  "kernelspec": {
   "display_name": "Python 3 (ipykernel)",
   "language": "python",
   "name": "python3"
  },
  "language_info": {
   "codemirror_mode": {
    "name": "ipython",
    "version": 3
   },
   "file_extension": ".py",
   "mimetype": "text/x-python",
   "name": "python",
   "nbconvert_exporter": "python",
   "pygments_lexer": "ipython3",
   "version": "3.10.9"
  }
 },
 "nbformat": 4,
 "nbformat_minor": 5
}
